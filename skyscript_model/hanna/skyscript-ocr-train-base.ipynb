{
 "cells": [
  {
   "attachments": {},
   "cell_type": "markdown",
   "metadata": {},
   "source": [
    "# Training Notebook \n",
    "### Uses architecture in models/cnn_base.py\n",
    "\n",
    "Before running make sure to <br>\n",
    "    1. Create and activate python virutal environment in the skyscripting repo directory (NOT IN skyscript_app or skyscript_model)<br>\n",
    "    2. install jupyter and ipykernel with pip<br>\n",
    "    3. create ipykernel for that virtual environment<br>\n",
    "    4. set that new ipykernel as the running kernel for the notebook<br>\n",
    "<br>\n",
    "Sidenotes:<br>\n",
    "    Wavemix model does perform better but takes significantly longer to train and the benefit is marginal"
   ]
  },
  {
   "cell_type": "code",
   "execution_count": 29,
   "metadata": {},
   "outputs": [],
   "source": [
    "import sys\n",
    "sys.path.append(\"../\")\n",
    "\n",
    "import torch\n",
    "from torchvision import datasets, transforms\n",
    "from torch.utils.data import DataLoader\n",
    "import matplotlib.pyplot as plt\n",
    "\n",
    "import torch.nn as nn\n",
    "import torch.nn.functional as F\n",
    "import torch.optim as optim\n",
    "\n",
    "from tqdm import tqdm\n",
    "from models.cnn_base import CNNBaseModel\n",
    "\n",
    "# import wavemix\n",
    "# from wavemix.classification import WaveMix\n",
    "\n",
    "#Set the model weights save path\n",
    "CKPT_SAVE_PATH = \"model_ckpts/ocr_letters.pth\"\n",
    "device = torch.device(\"cuda\" if torch.cuda.is_available() else \"cpu\")\n"
   ]
  },
  {
   "cell_type": "code",
   "execution_count": 2,
   "metadata": {},
   "outputs": [],
   "source": [
    "class_map = {\n",
    "    \"0\": \"A\",\n",
    "    \"1\": \"B\",\n",
    "    \"2\": \"C\",\n",
    "    \"3\": \"D\",\n",
    "    \"4\": \"E\",\n",
    "    \"5\": \"F\",\n",
    "    \"6\": \"G\",\n",
    "    \"7\": \"H\",\n",
    "    \"8\": \"I\",\n",
    "    \"9\": \"J\",\n",
    "    \"10\": \"K\",\n",
    "    \"11\": \"L\",\n",
    "    \"12\": \"M\",\n",
    "    \"13\": \"N\",\n",
    "    \"14\": \"O\",\n",
    "    \"15\": \"P\",\n",
    "    \"16\": \"Q\",\n",
    "    \"17\": \"R\",\n",
    "    \"18\": \"S\",\n",
    "    \"19\": \"T\",\n",
    "    \"20\": \"U\",\n",
    "    \"21\": \"V\",\n",
    "    \"22\": \"W\",\n",
    "    \"23\": \"X\",\n",
    "    \"24\": \"Y\",\n",
    "    \"25\": \"Z\"\n",
    "}\n"
   ]
  },
  {
   "cell_type": "code",
   "execution_count": 9,
   "metadata": {},
   "outputs": [
    {
     "name": "stdout",
     "output_type": "stream",
     "text": [
      "Extraction complete.\n"
     ]
    }
   ],
   "source": []
  },
  {
   "cell_type": "code",
   "execution_count": 11,
   "metadata": {},
   "outputs": [
    {
     "name": "stdout",
     "output_type": "stream",
     "text": [
      "torch.Size([64, 1, 28, 28])\n",
      "torch.Size([64])\n"
     ]
    },
    {
     "name": "stderr",
     "output_type": "stream",
     "text": [
      "C:\\Users\\hmofi\\AppData\\Local\\Programs\\Python\\Python39\\lib\\site-packages\\torchvision\\transforms\\functional.py:153: UserWarning: The given NumPy array is not writable, and PyTorch does not support non-writable tensors. This means writing to this tensor will result in undefined behavior. You may want to copy the array to protect its data or make it writable before converting it to a tensor. This type of warning will be suppressed for the rest of this program. (Triggered internally at C:\\actions-runner\\_work\\pytorch\\pytorch\\builder\\windows\\pytorch\\torch\\csrc\\utils\\tensor_numpy.cpp:212.)\n",
      "  img = torch.from_numpy(pic.transpose((2, 0, 1))).contiguous()\n"
     ]
    }
   ],
   "source": [
    "import torch\n",
    "from torch.utils.data import DataLoader, Dataset\n",
    "from torchvision import transforms\n",
    "import numpy as np\n",
    "import gzip\n",
    "\n",
    "# Define transformations\n",
    "transform = transforms.Compose([\n",
    "    transforms.ToTensor(),\n",
    "    transforms.Normalize((0.5,), (0.5,))\n",
    "])\n",
    "\n",
    "# Helper function to load MNIST-like .gz files\n",
    "def load_mnist_images(filename):\n",
    "    with gzip.open(filename, 'rb') as f:\n",
    "        data = np.frombuffer(f.read(), np.uint8, offset=16)\n",
    "        return data.reshape(-1, 28, 28)  # Shape: (num_samples, 28, 28)\n",
    "\n",
    "def load_mnist_labels(filename):\n",
    "    with gzip.open(filename, 'rb') as f:\n",
    "        return np.frombuffer(f.read(), np.uint8, offset=8)  # Shape: (num_samples,)\n",
    "\n",
    "# Define paths to the extracted files\n",
    "train_images_path = 'emnist_data/gzip/emnist-letters-train-images-idx3-ubyte.gz'\n",
    "train_labels_path = 'emnist_data/gzip/emnist-letters-train-labels-idx1-ubyte.gz'\n",
    "test_images_path = 'emnist_data/gzip/emnist-letters-test-images-idx3-ubyte.gz'\n",
    "test_labels_path = 'emnist_data/gzip/emnist-letters-test-labels-idx1-ubyte.gz'\n",
    "\n",
    "# Load the data\n",
    "train_images = load_mnist_images(train_images_path)\n",
    "train_labels = load_mnist_labels(train_labels_path)\n",
    "test_images = load_mnist_images(test_images_path)\n",
    "test_labels = load_mnist_labels(test_labels_path)\n",
    "\n",
    "# Create a custom PyTorch dataset\n",
    "class EMNISTDataset(Dataset):\n",
    "    def __init__(self, images, labels, transform=None):\n",
    "        self.images = images\n",
    "        self.labels = labels\n",
    "        self.transform = transform\n",
    "\n",
    "    def __len__(self):\n",
    "        return len(self.labels)\n",
    "\n",
    "    def __getitem__(self, idx):\n",
    "        image = self.images[idx]\n",
    "        label = self.labels[idx]\n",
    "        if self.transform:\n",
    "            image = self.transform(image)  # Apply transformations\n",
    "        return image, label\n",
    "\n",
    "# Create datasets\n",
    "train_dataset = EMNISTDataset(train_images, train_labels, transform=transform)\n",
    "test_dataset = EMNISTDataset(test_images, test_labels, transform=transform)\n",
    "\n",
    "# Create DataLoaders\n",
    "batch_size = 64\n",
    "train_loader = DataLoader(train_dataset, batch_size=batch_size, shuffle=True)\n",
    "val_loader = DataLoader(test_dataset, batch_size=batch_size, shuffle=False)\n",
    "\n",
    "# Iterate through the training data\n",
    "for images, labels in train_loader:\n",
    "    print(images.shape)  # Output: (batch_size, 1, 28, 28)\n",
    "    print(labels.shape)  # Output: (batch_size,)\n",
    "    break  # Just to see one batch\n"
   ]
  },
  {
   "cell_type": "code",
   "execution_count": 10,
   "metadata": {},
   "outputs": [
    {
     "ename": "NameError",
     "evalue": "name 'data' is not defined",
     "output_type": "error",
     "traceback": [
      "\u001b[1;31m---------------------------------------------------------------------------\u001b[0m",
      "\u001b[1;31mNameError\u001b[0m                                 Traceback (most recent call last)",
      "Cell \u001b[1;32mIn[10], line 9\u001b[0m\n\u001b[0;32m      7\u001b[0m \u001b[38;5;66;03m# Load EMNIST balanced dataset\u001b[39;00m\n\u001b[0;32m      8\u001b[0m data_root \u001b[38;5;241m=\u001b[39m \u001b[38;5;124m'\u001b[39m\u001b[38;5;124m./data\u001b[39m\u001b[38;5;124m'\u001b[39m\n\u001b[1;32m----> 9\u001b[0m emnist_data \u001b[38;5;241m=\u001b[39m datasets\u001b[38;5;241m.\u001b[39mEMNIST(root\u001b[38;5;241m=\u001b[39m\u001b[43mdata\u001b[49m, split\u001b[38;5;241m=\u001b[39m\u001b[38;5;124m'\u001b[39m\u001b[38;5;124mletters\u001b[39m\u001b[38;5;124m'\u001b[39m, train\u001b[38;5;241m=\u001b[39m\u001b[38;5;28;01mTrue\u001b[39;00m, download\u001b[38;5;241m=\u001b[39m\u001b[38;5;28;01mTrue\u001b[39;00m, transform\u001b[38;5;241m=\u001b[39mtransform)\n\u001b[0;32m     11\u001b[0m \u001b[38;5;66;03m# Create DataLoader\u001b[39;00m\n\u001b[0;32m     12\u001b[0m batch_size \u001b[38;5;241m=\u001b[39m \u001b[38;5;241m64\u001b[39m\n",
      "\u001b[1;31mNameError\u001b[0m: name 'data' is not defined"
     ]
    }
   ],
   "source": [
    "# Define transformations\n",
    "transform = transforms.Compose([\n",
    "    transforms.ToTensor(),\n",
    "    transforms.Normalize((0.5,), (0.5,))\n",
    "])\n",
    "\n",
    "# Load EMNIST balanced dataset\n",
    "data_root = './data'\n",
    "emnist_data = datasets.EMNIST(root=data, split='letters', train=True, download=True, transform=transform)\n",
    "\n",
    "# Create DataLoader\n",
    "batch_size = 64\n",
    "train_loader = DataLoader(emnist_data, batch_size=batch_size, shuffle=True)\n",
    "val_loader = DataLoader(emnist_data, batch_size=batch_size, shuffle=False )\n",
    "\n",
    "# Iterate through the data\n",
    "for images, labels in train_loader:\n",
    "    print(images.shape)  # Output: (batch_size, 1, 28, 28)\n",
    "    print(labels.shape)  # Output: (batch_size,)\n",
    "    break  # Just to see one batch"
   ]
  },
  {
   "cell_type": "code",
   "execution_count": 12,
   "metadata": {},
   "outputs": [
    {
     "ename": "NameError",
     "evalue": "name 'emnist_data' is not defined",
     "output_type": "error",
     "traceback": [
      "\u001b[1;31m---------------------------------------------------------------------------\u001b[0m",
      "\u001b[1;31mNameError\u001b[0m                                 Traceback (most recent call last)",
      "Cell \u001b[1;32mIn[12], line 1\u001b[0m\n\u001b[1;32m----> 1\u001b[0m \u001b[38;5;28mprint\u001b[39m(\u001b[38;5;124mf\u001b[39m\u001b[38;5;124m\"\u001b[39m\u001b[38;5;124mNumber of classes \u001b[39m\u001b[38;5;132;01m{\u001b[39;00m\u001b[38;5;28mlen\u001b[39m(emnist_data\u001b[38;5;241m.\u001b[39mclasses)\u001b[38;5;132;01m}\u001b[39;00m\u001b[38;5;124m \u001b[39m\u001b[38;5;130;01m\\n\u001b[39;00m\u001b[38;5;124m (1 extra class for NaN)\u001b[39m\u001b[38;5;124m\"\u001b[39m)\n",
      "\u001b[1;31mNameError\u001b[0m: name 'emnist_data' is not defined"
     ]
    }
   ],
   "source": [
    "print(f\"Number of classes {len(emnist_data.classes)} \\n (1 extra class for NaN)\")"
   ]
  },
  {
   "cell_type": "code",
   "execution_count": 13,
   "metadata": {},
   "outputs": [
    {
     "data": {
      "image/png": "[encoded data removed]",
      "text/plain": [
       "<Figure size 1000x800 with 3 Axes>"
      ]
     },
     "metadata": {},
     "output_type": "display_data"
    }
   ],
   "source": [
    "fig, axs = plt.subplots(1, 3, figsize=(10, 8)) \n",
    "\n",
    "for i in range(3):\n",
    "    axs[i].imshow(images[i].squeeze().T, cmap='gray')\n",
    "    axs[i].axis('off')\n",
    "    axs[i].set_title(labels[i])\n",
    "plt.show()"
   ]
  },
  {
   "cell_type": "code",
   "execution_count": 30,
   "metadata": {},
   "outputs": [
    {
     "data": {
      "text/plain": [
       "CNNBaseModel(\n",
       "  (conv1): Conv2d(1, 32, kernel_size=(3, 3), stride=(1, 1))\n",
       "  (pool1): MaxPool2d(kernel_size=(2, 2), stride=(2, 2), padding=0, dilation=1, ceil_mode=False)\n",
       "  (conv2): Conv2d(32, 64, kernel_size=(3, 3), stride=(1, 1))\n",
       "  (pool2): MaxPool2d(kernel_size=(2, 2), stride=(2, 2), padding=0, dilation=1, ceil_mode=False)\n",
       "  (conv3): Conv2d(64, 64, kernel_size=(3, 3), stride=(1, 1))\n",
       "  (flatten): Flatten(start_dim=1, end_dim=-1)\n",
       "  (fc1): Linear(in_features=576, out_features=64, bias=True)\n",
       "  (fc2): Linear(in_features=64, out_features=27, bias=True)\n",
       ")"
      ]
     },
     "execution_count": 30,
     "metadata": {},
     "output_type": "execute_result"
    }
   ],
   "source": [
    "model = CNNBaseModel()\n",
    "# model = WaveMix(\n",
    "#     num_classes= 27, \n",
    "#     depth= 16,\n",
    "#     mult= 2,\n",
    "#     ff_channel= 192,\n",
    "#     final_dim= 112,\n",
    "#     dropout= 0.5,\n",
    "#     level=1,\n",
    "#     patch_size=2,\n",
    "# )\n",
    "\n",
    "criterion = nn.CrossEntropyLoss()\n",
    "optimizer = optim.Adam(model.parameters(), lr=0.001)\n",
    "num_epochs = 10\n",
    "model.to(device)"
   ]
  },
  {
   "cell_type": "code",
   "execution_count": 31,
   "metadata": {},
   "outputs": [],
   "source": [
    "def train():\n",
    "    best_val = 0\n",
    "    os.makedirs(os.path.dirname(CKPT_SAVE_PATH), exist_ok=True)\n",
    "    for epoch in range(num_epochs):\n",
    "        model.train()  # Set model to training mode\n",
    "        running_loss = 0.0\n",
    "\n",
    "        # Training phase\n",
    "        for images, labels in tqdm(train_loader, desc=\"Training\"):\n",
    "            images = images.transpose(-1, -2)\n",
    "#             plt.imshow(images[0].squeeze(0).squeeze(0), cmap='gray')\n",
    "#             plt.title(class_map[str(labels[0].item() - 1)])\n",
    "#             plt.show()\n",
    "#             return\n",
    "            # if isinstance(model, WaveMix):\n",
    "            #     images = images.repeat(1, 3, 1, 1)\n",
    "            images, labels = images.to(device), labels.to(device)\n",
    "            optimizer.zero_grad()  # Zero the gradients\n",
    "            outputs = model(images)  # Forward pass\n",
    "            loss = criterion(outputs, labels)  # Calculate loss\n",
    "            loss.backward()  # Backward pass\n",
    "            optimizer.step()  # Update weights\n",
    "\n",
    "            running_loss += loss.item()  # Accumulate loss\n",
    "\n",
    "        # Calculate average training loss\n",
    "        avg_train_loss = running_loss / len(train_loader)\n",
    "        print(f'Epoch [{epoch + 1}/{num_epochs}], Training Loss: {avg_train_loss:.4f}')\n",
    "\n",
    "        # Validation phase\n",
    "        model.eval()  # Set model to evaluation mode\n",
    "        running_val_loss = 0.0\n",
    "        correct = 0\n",
    "        total = 0\n",
    "\n",
    "        with torch.no_grad():  # Disable gradient calculation for validation\n",
    "            for val_images, val_labels in tqdm(val_loader, desc=\"Evaluating\"):\n",
    "                val_images = val_images.transpose(-1, -2)\n",
    "                # if isinstance(model, WaveMix):\n",
    "                #     val_images = val_images.repeat(1, 3, 1, 1)\n",
    "                val_images, val_labels = val_images.to(device), val_labels.to(device)\n",
    "                val_outputs = model(val_images)  # Forward pass\n",
    "                val_loss = criterion(val_outputs, val_labels)  # Calculate validation loss\n",
    "                \n",
    "                running_val_loss += val_loss.item()  # Accumulate validation loss\n",
    "\n",
    "                # Calculate accuracy\n",
    "                _, predicted = torch.max(val_outputs.data, 1)  # Get the index of the max log-probability\n",
    "                total += val_labels.size(0)  # Total number of labels\n",
    "                correct += (predicted == val_labels).sum().item()  # Count correct predictions\n",
    "\n",
    "        # Calculate average validation loss and accuracy\n",
    "        avg_val_loss = running_val_loss / len(val_loader)\n",
    "        accuracy = correct / total * 100  # Percentage\n",
    "\n",
    "        print(f'Epoch [{epoch + 1}/{num_epochs}], Validation Loss: {avg_val_loss:.4f}, Accuracy: {accuracy:.2f}%')\n",
    "        if accuracy > best_val:\n",
    "            torch.save(model.state_dict(), CKPT_SAVE_PATH)\n",
    "            print(f\"Better model Accuracy saved\")\n",
    "\n",
    "    print(\"Training and validation complete!\")"
   ]
  },
  {
   "cell_type": "code",
   "execution_count": 32,
   "metadata": {},
   "outputs": [
    {
     "name": "stderr",
     "output_type": "stream",
     "text": [
      "Training: 100%|██████████| 1950/1950 [01:15<00:00, 25.74it/s]\n"
     ]
    },
    {
     "name": "stdout",
     "output_type": "stream",
     "text": [
      "Epoch [1/10], Training Loss: 0.5290\n"
     ]
    },
    {
     "name": "stderr",
     "output_type": "stream",
     "text": [
      "Evaluating: 100%|██████████| 325/325 [00:07<00:00, 45.97it/s]\n"
     ]
    },
    {
     "name": "stdout",
     "output_type": "stream",
     "text": [
      "Epoch [1/10], Validation Loss: 0.2932, Accuracy: 90.11%\n",
      "Better model Accuracy saved\n"
     ]
    },
    {
     "name": "stderr",
     "output_type": "stream",
     "text": [
      "Training: 100%|██████████| 1950/1950 [01:14<00:00, 26.23it/s]\n"
     ]
    },
    {
     "name": "stdout",
     "output_type": "stream",
     "text": [
      "Epoch [2/10], Training Loss: 0.2479\n"
     ]
    },
    {
     "name": "stderr",
     "output_type": "stream",
     "text": [
      "Evaluating: 100%|██████████| 325/325 [00:08<00:00, 37.54it/s]\n"
     ]
    },
    {
     "name": "stdout",
     "output_type": "stream",
     "text": [
      "Epoch [2/10], Validation Loss: 0.2354, Accuracy: 92.06%\n",
      "Better model Accuracy saved\n"
     ]
    },
    {
     "name": "stderr",
     "output_type": "stream",
     "text": [
      "Training: 100%|██████████| 1950/1950 [01:26<00:00, 22.52it/s]\n"
     ]
    },
    {
     "name": "stdout",
     "output_type": "stream",
     "text": [
      "Epoch [3/10], Training Loss: 0.2099\n"
     ]
    },
    {
     "name": "stderr",
     "output_type": "stream",
     "text": [
      "Evaluating: 100%|██████████| 325/325 [00:07<00:00, 43.96it/s]\n"
     ]
    },
    {
     "name": "stdout",
     "output_type": "stream",
     "text": [
      "Epoch [3/10], Validation Loss: 0.2207, Accuracy: 92.76%\n",
      "Better model Accuracy saved\n"
     ]
    },
    {
     "name": "stderr",
     "output_type": "stream",
     "text": [
      "Training: 100%|██████████| 1950/1950 [01:24<00:00, 23.12it/s]\n"
     ]
    },
    {
     "name": "stdout",
     "output_type": "stream",
     "text": [
      "Epoch [4/10], Training Loss: 0.1885\n"
     ]
    },
    {
     "name": "stderr",
     "output_type": "stream",
     "text": [
      "Evaluating: 100%|██████████| 325/325 [00:06<00:00, 47.92it/s]\n"
     ]
    },
    {
     "name": "stdout",
     "output_type": "stream",
     "text": [
      "Epoch [4/10], Validation Loss: 0.1993, Accuracy: 93.40%\n",
      "Better model Accuracy saved\n"
     ]
    },
    {
     "name": "stderr",
     "output_type": "stream",
     "text": [
      "Training: 100%|██████████| 1950/1950 [01:23<00:00, 23.47it/s]\n"
     ]
    },
    {
     "name": "stdout",
     "output_type": "stream",
     "text": [
      "Epoch [5/10], Training Loss: 0.1724\n"
     ]
    },
    {
     "name": "stderr",
     "output_type": "stream",
     "text": [
      "Evaluating: 100%|██████████| 325/325 [00:07<00:00, 41.38it/s]\n"
     ]
    },
    {
     "name": "stdout",
     "output_type": "stream",
     "text": [
      "Epoch [5/10], Validation Loss: 0.1993, Accuracy: 93.43%\n",
      "Better model Accuracy saved\n"
     ]
    },
    {
     "name": "stderr",
     "output_type": "stream",
     "text": [
      "Training: 100%|██████████| 1950/1950 [01:26<00:00, 22.53it/s]\n"
     ]
    },
    {
     "name": "stdout",
     "output_type": "stream",
     "text": [
      "Epoch [6/10], Training Loss: 0.1608\n"
     ]
    },
    {
     "name": "stderr",
     "output_type": "stream",
     "text": [
      "Evaluating: 100%|██████████| 325/325 [00:07<00:00, 40.68it/s]\n"
     ]
    },
    {
     "name": "stdout",
     "output_type": "stream",
     "text": [
      "Epoch [6/10], Validation Loss: 0.1952, Accuracy: 93.56%\n",
      "Better model Accuracy saved\n"
     ]
    },
    {
     "name": "stderr",
     "output_type": "stream",
     "text": [
      "Training: 100%|██████████| 1950/1950 [01:24<00:00, 23.18it/s]\n"
     ]
    },
    {
     "name": "stdout",
     "output_type": "stream",
     "text": [
      "Epoch [7/10], Training Loss: 0.1500\n"
     ]
    },
    {
     "name": "stderr",
     "output_type": "stream",
     "text": [
      "Evaluating: 100%|██████████| 325/325 [00:07<00:00, 41.75it/s]\n"
     ]
    },
    {
     "name": "stdout",
     "output_type": "stream",
     "text": [
      "Epoch [7/10], Validation Loss: 0.1961, Accuracy: 93.71%\n",
      "Better model Accuracy saved\n"
     ]
    },
    {
     "name": "stderr",
     "output_type": "stream",
     "text": [
      "Training: 100%|██████████| 1950/1950 [01:28<00:00, 22.13it/s]\n"
     ]
    },
    {
     "name": "stdout",
     "output_type": "stream",
     "text": [
      "Epoch [8/10], Training Loss: 0.1409\n"
     ]
    },
    {
     "name": "stderr",
     "output_type": "stream",
     "text": [
      "Evaluating: 100%|██████████| 325/325 [00:07<00:00, 42.69it/s]\n"
     ]
    },
    {
     "name": "stdout",
     "output_type": "stream",
     "text": [
      "Epoch [8/10], Validation Loss: 0.1994, Accuracy: 93.81%\n",
      "Better model Accuracy saved\n"
     ]
    },
    {
     "name": "stderr",
     "output_type": "stream",
     "text": [
      "Training: 100%|██████████| 1950/1950 [01:25<00:00, 22.68it/s]\n"
     ]
    },
    {
     "name": "stdout",
     "output_type": "stream",
     "text": [
      "Epoch [9/10], Training Loss: 0.1339\n"
     ]
    },
    {
     "name": "stderr",
     "output_type": "stream",
     "text": [
      "Evaluating: 100%|██████████| 325/325 [00:07<00:00, 41.27it/s]\n"
     ]
    },
    {
     "name": "stdout",
     "output_type": "stream",
     "text": [
      "Epoch [9/10], Validation Loss: 0.1915, Accuracy: 93.91%\n",
      "Better model Accuracy saved\n"
     ]
    },
    {
     "name": "stderr",
     "output_type": "stream",
     "text": [
      "Training: 100%|██████████| 1950/1950 [01:20<00:00, 24.18it/s]\n"
     ]
    },
    {
     "name": "stdout",
     "output_type": "stream",
     "text": [
      "Epoch [10/10], Training Loss: 0.1263\n"
     ]
    },
    {
     "name": "stderr",
     "output_type": "stream",
     "text": [
      "Evaluating: 100%|██████████| 325/325 [00:06<00:00, 51.12it/s]"
     ]
    },
    {
     "name": "stdout",
     "output_type": "stream",
     "text": [
      "Epoch [10/10], Validation Loss: 0.2093, Accuracy: 93.35%\n",
      "Better model Accuracy saved\n",
      "Training and validation complete!\n"
     ]
    },
    {
     "name": "stderr",
     "output_type": "stream",
     "text": [
      "\n"
     ]
    }
   ],
   "source": [
    "train()"
   ]
  },
  {
   "cell_type": "markdown",
   "metadata": {},
   "source": [
    "below has early stopping run the below"
   ]
  },
  {
   "cell_type": "code",
   "execution_count": 33,
   "metadata": {},
   "outputs": [],
   "source": [
    "import torch\n",
    "import os\n",
    "from tqdm import tqdm\n",
    "\n",
    "def train():\n",
    "    best_val_loss = float('inf')  # Initialize best validation loss as infinity\n",
    "    epochs_since_improvement = 0  # Counter to track epochs without improvement\n",
    "    patience = 5  # Number of epochs with no improvement after which training will stop\n",
    "    os.makedirs(os.path.dirname(CKPT_SAVE_PATH), exist_ok=True)\n",
    "    \n",
    "    for epoch in range(num_epochs):\n",
    "        model.train()  # Set model to training mode\n",
    "        running_loss = 0.0\n",
    "\n",
    "        # Training phase\n",
    "        for images, labels in tqdm(train_loader, desc=\"Training\"):\n",
    "            images = images.transpose(-1, -2)\n",
    "            images, labels = images.to(device), labels.to(device)\n",
    "            optimizer.zero_grad()  # Zero the gradients\n",
    "            outputs = model(images)  # Forward pass\n",
    "            loss = criterion(outputs, labels)  # Calculate loss\n",
    "            loss.backward()  # Backward pass\n",
    "            optimizer.step()  # Update weights\n",
    "\n",
    "            running_loss += loss.item()  # Accumulate loss\n",
    "\n",
    "        # Calculate average training loss\n",
    "        avg_train_loss = running_loss / len(train_loader)\n",
    "        print(f'Epoch [{epoch + 1}/{num_epochs}], Training Loss: {avg_train_loss:.4f}')\n",
    "\n",
    "        # Validation phase\n",
    "        model.eval()  # Set model to evaluation mode\n",
    "        running_val_loss = 0.0\n",
    "        correct = 0\n",
    "        total = 0\n",
    "\n",
    "        with torch.no_grad():  # Disable gradient calculation for validation\n",
    "            for val_images, val_labels in tqdm(val_loader, desc=\"Evaluating\"):\n",
    "                val_images = val_images.transpose(-1, -2)\n",
    "                val_images, val_labels = val_images.to(device), val_labels.to(device)\n",
    "                val_outputs = model(val_images)  # Forward pass\n",
    "                val_loss = criterion(val_outputs, val_labels)  # Calculate validation loss\n",
    "                \n",
    "                running_val_loss += val_loss.item()  # Accumulate validation loss\n",
    "\n",
    "                # Calculate accuracy\n",
    "                _, predicted = torch.max(val_outputs.data, 1)  # Get the index of the max log-probability\n",
    "                total += val_labels.size(0)  # Total number of labels\n",
    "                correct += (predicted == val_labels).sum().item()  # Count correct predictions\n",
    "\n",
    "        # Calculate average validation loss and accuracy\n",
    "        avg_val_loss = running_val_loss / len(val_loader)\n",
    "        accuracy = correct / total * 100  # Percentage\n",
    "\n",
    "        print(f'Epoch [{epoch + 1}/{num_epochs}], Validation Loss: {avg_val_loss:.4f}, Accuracy: {accuracy:.2f}%')\n",
    "        \n",
    "        # Early stopping logic\n",
    "        if avg_val_loss < best_val_loss:\n",
    "            best_val_loss = avg_val_loss  # Update best validation loss\n",
    "            epochs_since_improvement = 0  # Reset counter if improvement is seen\n",
    "            torch.save(model.state_dict(), CKPT_SAVE_PATH)  # Save the best model\n",
    "            print(f\"Improved validation loss! Model saved.\")\n",
    "        else:\n",
    "            epochs_since_improvement += 1  # Increment counter if no improvement\n",
    "        \n",
    "        # If no improvement for 'patience' epochs, stop training\n",
    "        if epochs_since_improvement >= patience:\n",
    "            print(f\"Early stopping triggered. Validation loss did not improve for {patience} epochs.\")\n",
    "            break  # Exit the training loop\n",
    "\n",
    "    print(\"Training and validation complete!\")\n"
   ]
  },
  {
   "cell_type": "code",
   "execution_count": 34,
   "metadata": {},
   "outputs": [
    {
     "name": "stderr",
     "output_type": "stream",
     "text": [
      "Training: 100%|██████████| 1950/1950 [01:13<00:00, 26.59it/s]\n"
     ]
    },
    {
     "name": "stdout",
     "output_type": "stream",
     "text": [
      "Epoch [1/10], Training Loss: 0.1215\n"
     ]
    },
    {
     "name": "stderr",
     "output_type": "stream",
     "text": [
      "Evaluating: 100%|██████████| 325/325 [00:06<00:00, 48.39it/s]\n"
     ]
    },
    {
     "name": "stdout",
     "output_type": "stream",
     "text": [
      "Epoch [1/10], Validation Loss: 0.1983, Accuracy: 93.94%\n",
      "Improved validation loss! Model saved.\n"
     ]
    },
    {
     "name": "stderr",
     "output_type": "stream",
     "text": [
      "Training: 100%|██████████| 1950/1950 [01:12<00:00, 26.77it/s]\n"
     ]
    },
    {
     "name": "stdout",
     "output_type": "stream",
     "text": [
      "Epoch [2/10], Training Loss: 0.1155\n"
     ]
    },
    {
     "name": "stderr",
     "output_type": "stream",
     "text": [
      "Evaluating: 100%|██████████| 325/325 [00:06<00:00, 48.82it/s]\n"
     ]
    },
    {
     "name": "stdout",
     "output_type": "stream",
     "text": [
      "Epoch [2/10], Validation Loss: 0.2048, Accuracy: 93.79%\n"
     ]
    },
    {
     "name": "stderr",
     "output_type": "stream",
     "text": [
      "Training: 100%|██████████| 1950/1950 [01:17<00:00, 25.10it/s]\n"
     ]
    },
    {
     "name": "stdout",
     "output_type": "stream",
     "text": [
      "Epoch [3/10], Training Loss: 0.1096\n"
     ]
    },
    {
     "name": "stderr",
     "output_type": "stream",
     "text": [
      "Evaluating: 100%|██████████| 325/325 [00:07<00:00, 42.03it/s]\n"
     ]
    },
    {
     "name": "stdout",
     "output_type": "stream",
     "text": [
      "Epoch [3/10], Validation Loss: 0.2218, Accuracy: 93.47%\n"
     ]
    },
    {
     "name": "stderr",
     "output_type": "stream",
     "text": [
      "Training: 100%|██████████| 1950/1950 [01:18<00:00, 24.71it/s]\n"
     ]
    },
    {
     "name": "stdout",
     "output_type": "stream",
     "text": [
      "Epoch [4/10], Training Loss: 0.1046\n"
     ]
    },
    {
     "name": "stderr",
     "output_type": "stream",
     "text": [
      "Evaluating: 100%|██████████| 325/325 [00:08<00:00, 38.79it/s]\n"
     ]
    },
    {
     "name": "stdout",
     "output_type": "stream",
     "text": [
      "Epoch [4/10], Validation Loss: 0.2162, Accuracy: 93.64%\n"
     ]
    },
    {
     "name": "stderr",
     "output_type": "stream",
     "text": [
      "Training: 100%|██████████| 1950/1950 [01:25<00:00, 22.76it/s]\n"
     ]
    },
    {
     "name": "stdout",
     "output_type": "stream",
     "text": [
      "Epoch [5/10], Training Loss: 0.1014\n"
     ]
    },
    {
     "name": "stderr",
     "output_type": "stream",
     "text": [
      "Evaluating: 100%|██████████| 325/325 [00:08<00:00, 38.47it/s]\n"
     ]
    },
    {
     "name": "stdout",
     "output_type": "stream",
     "text": [
      "Epoch [5/10], Validation Loss: 0.2200, Accuracy: 93.81%\n"
     ]
    },
    {
     "name": "stderr",
     "output_type": "stream",
     "text": [
      "Training: 100%|██████████| 1950/1950 [01:25<00:00, 22.90it/s]\n"
     ]
    },
    {
     "name": "stdout",
     "output_type": "stream",
     "text": [
      "Epoch [6/10], Training Loss: 0.0975\n"
     ]
    },
    {
     "name": "stderr",
     "output_type": "stream",
     "text": [
      "Evaluating: 100%|██████████| 325/325 [00:08<00:00, 38.06it/s]"
     ]
    },
    {
     "name": "stdout",
     "output_type": "stream",
     "text": [
      "Epoch [6/10], Validation Loss: 0.2290, Accuracy: 93.75%\n",
      "Early stopping triggered. Validation loss did not improve for 5 epochs.\n",
      "Training and validation complete!\n"
     ]
    },
    {
     "name": "stderr",
     "output_type": "stream",
     "text": [
      "\n"
     ]
    }
   ],
   "source": [
    "train()"
   ]
  },
  {
   "cell_type": "code",
   "execution_count": null,
   "metadata": {},
   "outputs": [],
   "source": []
  }
 ],
 "metadata": {
  "kaggle": {
   "accelerator": "gpu",
   "dataSources": [],
   "dockerImageVersionId": 30787,
   "isGpuEnabled": true,
   "isInternetEnabled": true,
   "language": "python",
   "sourceType": "notebook"
  },
  "kernelspec": {
   "display_name": "Python 3 (ipykernel)",
   "language": "python",
   "name": "python3"
  },
  "language_info": {
   "codemirror_mode": {
    "name": "ipython",
    "version": 3
   },
   "file_extension": ".py",
   "mimetype": "text/x-python",
   "name": "python",
   "nbconvert_exporter": "python",
   "pygments_lexer": "ipython3",
   "version": "3.9.7"
  },
  "vscode": {
   "interpreter": {
    "hash": "af9d54efc1bf4226517c43df189ef1481fbf7b480d9fa1a27c218cc4355c0e8b"
   }
  }
 },
 "nbformat": 4,
 "nbformat_minor": 4
}
