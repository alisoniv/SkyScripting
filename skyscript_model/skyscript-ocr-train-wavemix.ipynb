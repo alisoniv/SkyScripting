{
 "cells": [
  {
   "attachments": {},
   "cell_type": "markdown",
   "id": "cdaf6cb7",
   "metadata": {},
   "source": [
    "## Import this notebook to Kaggle for training | Select GPU P100 during run for faster training"
   ]
  },
  {
   "cell_type": "code",
   "execution_count": 1,
   "id": "917e184d",
   "metadata": {
    "execution": {
     "iopub.execute_input": "2025-01-14T00:39:23.242126Z",
     "iopub.status.busy": "2025-01-14T00:39:23.241812Z",
     "iopub.status.idle": "2025-01-14T00:39:33.409049Z",
     "shell.execute_reply": "2025-01-14T00:39:33.408211Z"
    },
    "papermill": {
     "duration": 10.173722,
     "end_time": "2025-01-14T00:39:33.411235",
     "exception": false,
     "start_time": "2025-01-14T00:39:23.237513",
     "status": "completed"
    },
    "tags": []
   },
   "outputs": [
    {
     "name": "stdout",
     "output_type": "stream",
     "text": [
      "Collecting wavemix\r\n",
      "  Downloading wavemix-0.2.4-py3-none-any.whl.metadata (10 kB)\r\n",
      "Collecting einops (from wavemix)\r\n",
      "  Downloading einops-0.8.0-py3-none-any.whl.metadata (12 kB)\r\n",
      "Requirement already satisfied: torch in /opt/conda/lib/python3.10/site-packages (from wavemix) (2.4.0)\r\n",
      "Requirement already satisfied: torchvision in /opt/conda/lib/python3.10/site-packages (from wavemix) (0.19.0)\r\n",
      "Requirement already satisfied: pywavelets in /opt/conda/lib/python3.10/site-packages (from wavemix) (1.6.0)\r\n",
      "Requirement already satisfied: numpy in /opt/conda/lib/python3.10/site-packages (from wavemix) (1.26.4)\r\n",
      "Requirement already satisfied: filelock in /opt/conda/lib/python3.10/site-packages (from torch->wavemix) (3.15.1)\r\n",
      "Requirement already satisfied: typing-extensions>=4.8.0 in /opt/conda/lib/python3.10/site-packages (from torch->wavemix) (4.12.2)\r\n",
      "Requirement already satisfied: sympy in /opt/conda/lib/python3.10/site-packages (from torch->wavemix) (1.13.3)\r\n",
      "Requirement already satisfied: networkx in /opt/conda/lib/python3.10/site-packages (from torch->wavemix) (3.3)\r\n",
      "Requirement already satisfied: jinja2 in /opt/conda/lib/python3.10/site-packages (from torch->wavemix) (3.1.4)\r\n",
      "Requirement already satisfied: fsspec in /opt/conda/lib/python3.10/site-packages (from torch->wavemix) (2024.6.1)\r\n",
      "Requirement already satisfied: pillow!=8.3.*,>=5.3.0 in /opt/conda/lib/python3.10/site-packages (from torchvision->wavemix) (10.3.0)\r\n",
      "Requirement already satisfied: MarkupSafe>=2.0 in /opt/conda/lib/python3.10/site-packages (from jinja2->torch->wavemix) (2.1.5)\r\n",
      "Requirement already satisfied: mpmath<1.4,>=1.1.0 in /opt/conda/lib/python3.10/site-packages (from sympy->torch->wavemix) (1.3.0)\r\n",
      "Downloading wavemix-0.2.4-py3-none-any.whl (11 kB)\r\n",
      "Downloading einops-0.8.0-py3-none-any.whl (43 kB)\r\n",
      "\u001b[2K   \u001b[90m━━━━━━━━━━━━━━━━━━━━━━━━━━━━━━━━━━━━━━━━\u001b[0m \u001b[32m43.2/43.2 kB\u001b[0m \u001b[31m1.7 MB/s\u001b[0m eta \u001b[36m0:00:00\u001b[0m\r\n",
      "\u001b[?25hInstalling collected packages: einops, wavemix\r\n",
      "Successfully installed einops-0.8.0 wavemix-0.2.4\r\n"
     ]
    }
   ],
   "source": [
    "!pip install wavemix"
   ]
  },
  {
   "cell_type": "code",
   "execution_count": 2,
   "id": "593dc554",
   "metadata": {
    "execution": {
     "iopub.execute_input": "2025-01-14T00:39:33.419331Z",
     "iopub.status.busy": "2025-01-14T00:39:33.418595Z",
     "iopub.status.idle": "2025-01-14T00:39:38.744922Z",
     "shell.execute_reply": "2025-01-14T00:39:38.744198Z"
    },
    "papermill": {
     "duration": 5.332332,
     "end_time": "2025-01-14T00:39:38.746911",
     "exception": false,
     "start_time": "2025-01-14T00:39:33.414579",
     "status": "completed"
    },
    "tags": []
   },
   "outputs": [],
   "source": [
    "import torch\n",
    "from torchvision import datasets, transforms\n",
    "from torch.utils.data import DataLoader, random_split, Subset\n",
    "import matplotlib.pyplot as plt\n",
    "\n",
    "import torch.nn as nn\n",
    "import torch.nn.functional as F\n",
    "import torch.optim as optim\n",
    "\n",
    "\n",
    "import wavemix\n",
    "from wavemix.classification import WaveMix\n",
    "from tqdm import tqdm\n",
    "\n",
    "device = torch.device(\"cuda\" if torch.cuda.is_available() else \"cpu\")\n"
   ]
  },
  {
   "cell_type": "code",
   "execution_count": 3,
   "id": "9ad0b834",
   "metadata": {
    "execution": {
     "iopub.execute_input": "2025-01-14T00:39:38.754869Z",
     "iopub.status.busy": "2025-01-14T00:39:38.754453Z",
     "iopub.status.idle": "2025-01-14T00:39:38.759495Z",
     "shell.execute_reply": "2025-01-14T00:39:38.758682Z"
    },
    "papermill": {
     "duration": 0.010932,
     "end_time": "2025-01-14T00:39:38.761078",
     "exception": false,
     "start_time": "2025-01-14T00:39:38.750146",
     "status": "completed"
    },
    "tags": []
   },
   "outputs": [],
   "source": [
    "class_map = {\n",
    "    \"0\": \"A\",\n",
    "    \"1\": \"B\",\n",
    "    \"2\": \"C\",\n",
    "    \"3\": \"D\",\n",
    "    \"4\": \"E\",\n",
    "    \"5\": \"F\",\n",
    "    \"6\": \"G\",\n",
    "    \"7\": \"H\",\n",
    "    \"8\": \"I\",\n",
    "    \"9\": \"J\",\n",
    "    \"10\": \"K\",\n",
    "    \"11\": \"L\",\n",
    "    \"12\": \"M\",\n",
    "    \"13\": \"N\",\n",
    "    \"14\": \"O\",\n",
    "    \"15\": \"P\",\n",
    "    \"16\": \"Q\",\n",
    "    \"17\": \"R\",\n",
    "    \"18\": \"S\",\n",
    "    \"19\": \"T\",\n",
    "    \"20\": \"U\",\n",
    "    \"21\": \"V\",\n",
    "    \"22\": \"W\",\n",
    "    \"23\": \"X\",\n",
    "    \"24\": \"Y\",\n",
    "    \"25\": \"Z\"\n",
    "}\n"
   ]
  },
  {
   "cell_type": "code",
   "execution_count": 4,
   "id": "761f0f73",
   "metadata": {
    "execution": {
     "iopub.execute_input": "2025-01-14T00:39:38.767652Z",
     "iopub.status.busy": "2025-01-14T00:39:38.767392Z",
     "iopub.status.idle": "2025-01-14T00:40:00.272321Z",
     "shell.execute_reply": "2025-01-14T00:40:00.271208Z"
    },
    "papermill": {
     "duration": 21.510265,
     "end_time": "2025-01-14T00:40:00.274212",
     "exception": false,
     "start_time": "2025-01-14T00:39:38.763947",
     "status": "completed"
    },
    "tags": []
   },
   "outputs": [
    {
     "name": "stdout",
     "output_type": "stream",
     "text": [
      "Downloading https://biometrics.nist.gov/cs_links/EMNIST/gzip.zip to ./data/EMNIST/raw/gzip.zip\n"
     ]
    },
    {
     "name": "stderr",
     "output_type": "stream",
     "text": [
      "100%|██████████| 561753746/561753746 [00:06<00:00, 92694506.91it/s]\n"
     ]
    },
    {
     "name": "stdout",
     "output_type": "stream",
     "text": [
      "Extracting ./data/EMNIST/raw/gzip.zip to ./data/EMNIST/raw\n",
      "torch.Size([64, 1, 28, 28])\n",
      "torch.Size([64])\n"
     ]
    }
   ],
   "source": [
    "# Define transformations\n",
    "transform = transforms.Compose([\n",
    "    transforms.ToTensor(),\n",
    "    transforms.Normalize((0.5,), (0.5,))\n",
    "])\n",
    "\n",
    "# Load EMNIST balanced dataset\n",
    "data_root = './data'\n",
    "emnist_data = datasets.EMNIST(root=data_root, split='letters', train=True, download=True, transform=transform)\n",
    "\n",
    "#Train Val Split\n",
    "train_size = int(0.8 * len(emnist_data))\n",
    "val_size = len(emnist_data) - train_size\n",
    "\n",
    "train_indices = list(range(train_size))\n",
    "val_indices = list(range(train_size, len(emnist_data)))\n",
    "\n",
    "# Use Subset to create training and validation datasets\n",
    "train_dataset = Subset(emnist_data, train_indices)\n",
    "val_dataset = Subset(emnist_data, val_indices)\n",
    "\n",
    "# Create DataLoaders\n",
    "batch_size = 64\n",
    "train_loader = DataLoader(train_dataset, batch_size=batch_size, shuffle=True)\n",
    "val_loader = DataLoader(val_dataset, batch_size=batch_size, shuffle=False)\n",
    "\n",
    "# Iterate through the data\n",
    "for images, labels in train_loader:\n",
    "    print(images.shape)  # Output: (batch_size, 1, 28, 28)\n",
    "    print(labels.shape)  # Output: (batch_size,)\n",
    "    break  # Just to see one batch"
   ]
  },
  {
   "cell_type": "code",
   "execution_count": 5,
   "id": "286d4573",
   "metadata": {
    "execution": {
     "iopub.execute_input": "2025-01-14T00:40:00.287954Z",
     "iopub.status.busy": "2025-01-14T00:40:00.287627Z",
     "iopub.status.idle": "2025-01-14T00:40:00.292785Z",
     "shell.execute_reply": "2025-01-14T00:40:00.291581Z"
    },
    "papermill": {
     "duration": 0.013457,
     "end_time": "2025-01-14T00:40:00.294652",
     "exception": false,
     "start_time": "2025-01-14T00:40:00.281195",
     "status": "completed"
    },
    "tags": []
   },
   "outputs": [
    {
     "name": "stdout",
     "output_type": "stream",
     "text": [
      "27\n"
     ]
    }
   ],
   "source": [
    "print(len(emnist_data.classes))"
   ]
  },
  {
   "cell_type": "code",
   "execution_count": 6,
   "id": "6eb5def8",
   "metadata": {
    "execution": {
     "iopub.execute_input": "2025-01-14T00:40:00.311069Z",
     "iopub.status.busy": "2025-01-14T00:40:00.310792Z",
     "iopub.status.idle": "2025-01-14T00:40:00.605881Z",
     "shell.execute_reply": "2025-01-14T00:40:00.604946Z"
    },
    "papermill": {
     "duration": 0.305202,
     "end_time": "2025-01-14T00:40:00.607681",
     "exception": false,
     "start_time": "2025-01-14T00:40:00.302479",
     "status": "completed"
    },
    "tags": []
   },
   "outputs": [
    {
     "data": {
      "image/png": "[encoded data removed]",
      "text/plain": [
       "<Figure size 1000x800 with 3 Axes>"
      ]
     },
     "metadata": {},
     "output_type": "display_data"
    }
   ],
   "source": [
    "fig, axs = plt.subplots(1, 3, figsize=(10, 8)) \n",
    "\n",
    "for i in range(3):\n",
    "    axs[i].imshow(images[i].squeeze().T, cmap='gray')\n",
    "    axs[i].axis('off')\n",
    "    axs[i].set_title(class_map[str(labels[i].item() - 1)])\n",
    "plt.show()"
   ]
  },
  {
   "cell_type": "code",
   "execution_count": 8,
   "id": "2f30429f",
   "metadata": {
    "execution": {
     "iopub.execute_input": "2025-01-14T00:40:00.640182Z",
     "iopub.status.busy": "2025-01-14T00:40:00.639843Z",
     "iopub.status.idle": "2025-01-14T00:40:00.721361Z",
     "shell.execute_reply": "2025-01-14T00:40:00.720473Z"
    },
    "papermill": {
     "duration": 0.090409,
     "end_time": "2025-01-14T00:40:00.723141",
     "exception": false,
     "start_time": "2025-01-14T00:40:00.632732",
     "status": "completed"
    },
    "tags": []
   },
   "outputs": [
    {
     "data": {
      "text/plain": [
       "WaveMix(\n",
       "  (layers): ModuleList(\n",
       "    (0-15): 16 x Level1Waveblock(\n",
       "      (feedforward): Sequential(\n",
       "        (0): Conv2d(112, 224, kernel_size=(1, 1), stride=(1, 1))\n",
       "        (1): GELU(approximate='none')\n",
       "        (2): Dropout(p=0.5, inplace=False)\n",
       "        (3): Conv2d(224, 192, kernel_size=(1, 1), stride=(1, 1))\n",
       "        (4): ConvTranspose2d(192, 112, kernel_size=(4, 4), stride=(2, 2), padding=(1, 1))\n",
       "        (5): BatchNorm2d(112, eps=1e-05, momentum=0.1, affine=True, track_running_stats=True)\n",
       "      )\n",
       "      (reduction): Conv2d(112, 28, kernel_size=(1, 1), stride=(1, 1))\n",
       "    )\n",
       "  )\n",
       "  (pool): Sequential(\n",
       "    (0): AdaptiveAvgPool2d(output_size=1)\n",
       "    (1): Rearrange('... () () -> ...')\n",
       "    (2): Linear(in_features=112, out_features=27, bias=True)\n",
       "  )\n",
       "  (conv): Sequential(\n",
       "    (0): Conv2d(3, 28, kernel_size=(3, 3), stride=(1, 1), padding=(1, 1))\n",
       "    (1): Conv2d(28, 56, kernel_size=(3, 3), stride=(1, 1), padding=(1, 1))\n",
       "    (2): Conv2d(56, 112, kernel_size=(2, 2), stride=(2, 2))\n",
       "    (3): GELU(approximate='none')\n",
       "    (4): BatchNorm2d(112, eps=1e-05, momentum=0.1, affine=True, track_running_stats=True)\n",
       "  )\n",
       ")"
      ]
     },
     "execution_count": 8,
     "metadata": {},
     "output_type": "execute_result"
    }
   ],
   "source": [
    "model = WaveMix(\n",
    "    num_classes= 27, \n",
    "    depth= 16,\n",
    "    mult= 2,\n",
    "    ff_channel= 192,\n",
    "    final_dim= 112,\n",
    "    dropout= 0.5,\n",
    "    level=1,\n",
    "    patch_size=2,\n",
    ")\n",
    "\n",
    "criterion = nn.CrossEntropyLoss()\n",
    "optimizer = optim.Adam(model.parameters(), lr=0.001)\n",
    "num_epochs = 20\n",
    "model.to(device)"
   ]
  },
  {
   "cell_type": "code",
   "execution_count": 9,
   "id": "23b5e4d5",
   "metadata": {
    "execution": {
     "iopub.execute_input": "2025-01-14T00:40:00.736877Z",
     "iopub.status.busy": "2025-01-14T00:40:00.736531Z",
     "iopub.status.idle": "2025-01-14T00:40:00.746636Z",
     "shell.execute_reply": "2025-01-14T00:40:00.745831Z"
    },
    "papermill": {
     "duration": 0.019234,
     "end_time": "2025-01-14T00:40:00.748291",
     "exception": false,
     "start_time": "2025-01-14T00:40:00.729057",
     "status": "completed"
    },
    "tags": []
   },
   "outputs": [],
   "source": [
    "from tqdm import tqdm\n",
    "\n",
    "def train():\n",
    "    best_val = 0\n",
    "    for epoch in range(num_epochs):\n",
    "        model.train()  # Set model to training mode\n",
    "        running_loss = 0.0\n",
    "\n",
    "        # Training phase\n",
    "        for images, labels in tqdm(train_loader, desc=\"Training\"):\n",
    "            images = images.transpose(-1, -2)\n",
    "            # plt.imshow(images[0].squeeze(0).squeeze(0), cmap='gray')\n",
    "            # plt.title(class_map[str(labels[0].item() - 1)])\n",
    "            # plt.show()\n",
    "            # return\n",
    "            if isinstance(model, WaveMix):\n",
    "                images = images.repeat(1, 3, 1, 1)\n",
    "            images, labels = images.to(device), labels.to(device)\n",
    "            optimizer.zero_grad()  # Zero the gradients\n",
    "            outputs = model(images)  # Forward pass\n",
    "            loss = criterion(outputs, labels)  # Calculate loss\n",
    "            loss.backward()  # Backward pass\n",
    "            optimizer.step()  # Update weights\n",
    "\n",
    "            running_loss += loss.item()  # Accumulate loss\n",
    "\n",
    "        # Calculate average training loss\n",
    "        avg_train_loss = running_loss / len(train_loader)\n",
    "        print(f'Epoch [{epoch + 1}/{num_epochs}], Training Loss: {avg_train_loss:.4f}')\n",
    "\n",
    "        # Validation phase\n",
    "        model.eval()  # Set model to evaluation mode\n",
    "        running_val_loss = 0.0\n",
    "        correct = 0\n",
    "        total = 0\n",
    "\n",
    "        with torch.no_grad():  # Disable gradient calculation for validation\n",
    "            for val_images, val_labels in tqdm(val_loader, desc=\"Evaluating\"):\n",
    "                val_images = val_images.transpose(-1, -2)\n",
    "                if isinstance(model, WaveMix):\n",
    "                    val_images = val_images.repeat(1, 3, 1, 1)\n",
    "                val_images, val_labels = val_images.to(device), val_labels.to(device)\n",
    "                val_outputs = model(val_images)  # Forward pass\n",
    "                val_loss = criterion(val_outputs, val_labels)  # Calculate validation loss\n",
    "                \n",
    "                running_val_loss += val_loss.item()  # Accumulate validation loss\n",
    "\n",
    "                # Calculate accuracy\n",
    "                _, predicted = torch.max(val_outputs.data, 1)  # Get the index of the max log-probability\n",
    "                total += val_labels.size(0)  # Total number of labels\n",
    "                correct += (predicted == val_labels).sum().item()  # Count correct predictions\n",
    "\n",
    "        # Calculate average validation loss and accuracy\n",
    "        avg_val_loss = running_val_loss / len(val_loader)\n",
    "        accuracy = correct / total * 100  # Percentage\n",
    "\n",
    "        print(f'Epoch [{epoch + 1}/{num_epochs}], Validation Loss: {avg_val_loss:.4f}, Accuracy: {accuracy:.2f}%')\n",
    "        if accuracy > best_val:\n",
    "            torch.save(model.state_dict(), f\"ocr_wavemix_epoch{epoch}.pth\")\n",
    "            print(f\"Better model Accuracy saved\")\n",
    "            best_val = accuracy\n",
    "\n",
    "    \n",
    "        \n",
    "    print(\"Training and validation complete!\")\n",
    "\n"
   ]
  },
  {
   "cell_type": "code",
   "execution_count": 10,
   "id": "39f4f985",
   "metadata": {
    "execution": {
     "iopub.execute_input": "2025-01-14T00:40:00.762075Z",
     "iopub.status.busy": "2025-01-14T00:40:00.761684Z",
     "iopub.status.idle": "2025-01-14T01:23:06.560615Z",
     "shell.execute_reply": "2025-01-14T01:23:06.559609Z"
    },
    "papermill": {
     "duration": 2585.807807,
     "end_time": "2025-01-14T01:23:06.562566",
     "exception": false,
     "start_time": "2025-01-14T00:40:00.754759",
     "status": "completed"
    },
    "tags": []
   },
   "outputs": [
    {
     "name": "stderr",
     "output_type": "stream",
     "text": [
      "Training: 100%|██████████| 1560/1560 [02:00<00:00, 12.94it/s]\n"
     ]
    },
    {
     "name": "stdout",
     "output_type": "stream",
     "text": [
      "Epoch [1/20], Training Loss: 0.5175\n"
     ]
    },
    {
     "name": "stderr",
     "output_type": "stream",
     "text": [
      "Evaluating: 100%|██████████| 390/390 [00:11<00:00, 34.22it/s]\n"
     ]
    },
    {
     "name": "stdout",
     "output_type": "stream",
     "text": [
      "Epoch [1/20], Validation Loss: 0.2827, Accuracy: 90.45%\n",
      "Better model Accuracy saved\n"
     ]
    },
    {
     "name": "stderr",
     "output_type": "stream",
     "text": [
      "Training: 100%|██████████| 1560/1560 [01:58<00:00, 13.15it/s]\n"
     ]
    },
    {
     "name": "stdout",
     "output_type": "stream",
     "text": [
      "Epoch [2/20], Training Loss: 0.2569\n"
     ]
    },
    {
     "name": "stderr",
     "output_type": "stream",
     "text": [
      "Evaluating: 100%|██████████| 390/390 [00:11<00:00, 34.94it/s]\n"
     ]
    },
    {
     "name": "stdout",
     "output_type": "stream",
     "text": [
      "Epoch [2/20], Validation Loss: 0.2336, Accuracy: 92.26%\n",
      "Better model Accuracy saved\n"
     ]
    },
    {
     "name": "stderr",
     "output_type": "stream",
     "text": [
      "Training: 100%|██████████| 1560/1560 [01:59<00:00, 13.08it/s]\n"
     ]
    },
    {
     "name": "stdout",
     "output_type": "stream",
     "text": [
      "Epoch [3/20], Training Loss: 0.2251\n"
     ]
    },
    {
     "name": "stderr",
     "output_type": "stream",
     "text": [
      "Evaluating: 100%|██████████| 390/390 [00:11<00:00, 35.42it/s]\n"
     ]
    },
    {
     "name": "stdout",
     "output_type": "stream",
     "text": [
      "Epoch [3/20], Validation Loss: 0.1970, Accuracy: 93.10%\n",
      "Better model Accuracy saved\n"
     ]
    },
    {
     "name": "stderr",
     "output_type": "stream",
     "text": [
      "Training: 100%|██████████| 1560/1560 [01:59<00:00, 13.08it/s]\n"
     ]
    },
    {
     "name": "stdout",
     "output_type": "stream",
     "text": [
      "Epoch [4/20], Training Loss: 0.2071\n"
     ]
    },
    {
     "name": "stderr",
     "output_type": "stream",
     "text": [
      "Evaluating: 100%|██████████| 390/390 [00:11<00:00, 34.95it/s]\n"
     ]
    },
    {
     "name": "stdout",
     "output_type": "stream",
     "text": [
      "Epoch [4/20], Validation Loss: 0.1963, Accuracy: 93.46%\n",
      "Better model Accuracy saved\n"
     ]
    },
    {
     "name": "stderr",
     "output_type": "stream",
     "text": [
      "Training: 100%|██████████| 1560/1560 [01:59<00:00, 13.09it/s]\n"
     ]
    },
    {
     "name": "stdout",
     "output_type": "stream",
     "text": [
      "Epoch [5/20], Training Loss: 0.1954\n"
     ]
    },
    {
     "name": "stderr",
     "output_type": "stream",
     "text": [
      "Evaluating: 100%|██████████| 390/390 [00:11<00:00, 35.04it/s]\n"
     ]
    },
    {
     "name": "stdout",
     "output_type": "stream",
     "text": [
      "Epoch [5/20], Validation Loss: 0.1792, Accuracy: 94.16%\n",
      "Better model Accuracy saved\n"
     ]
    },
    {
     "name": "stderr",
     "output_type": "stream",
     "text": [
      "Training: 100%|██████████| 1560/1560 [01:58<00:00, 13.12it/s]\n"
     ]
    },
    {
     "name": "stdout",
     "output_type": "stream",
     "text": [
      "Epoch [6/20], Training Loss: 0.1838\n"
     ]
    },
    {
     "name": "stderr",
     "output_type": "stream",
     "text": [
      "Evaluating: 100%|██████████| 390/390 [00:11<00:00, 35.35it/s]\n"
     ]
    },
    {
     "name": "stdout",
     "output_type": "stream",
     "text": [
      "Epoch [6/20], Validation Loss: 0.1631, Accuracy: 94.39%\n",
      "Better model Accuracy saved\n"
     ]
    },
    {
     "name": "stderr",
     "output_type": "stream",
     "text": [
      "Training: 100%|██████████| 1560/1560 [01:59<00:00, 13.11it/s]\n"
     ]
    },
    {
     "name": "stdout",
     "output_type": "stream",
     "text": [
      "Epoch [7/20], Training Loss: 0.1753\n"
     ]
    },
    {
     "name": "stderr",
     "output_type": "stream",
     "text": [
      "Evaluating: 100%|██████████| 390/390 [00:11<00:00, 34.98it/s]\n"
     ]
    },
    {
     "name": "stdout",
     "output_type": "stream",
     "text": [
      "Epoch [7/20], Validation Loss: 0.1689, Accuracy: 94.23%\n"
     ]
    },
    {
     "name": "stderr",
     "output_type": "stream",
     "text": [
      "Training: 100%|██████████| 1560/1560 [01:59<00:00, 13.11it/s]\n"
     ]
    },
    {
     "name": "stdout",
     "output_type": "stream",
     "text": [
      "Epoch [8/20], Training Loss: 0.1690\n"
     ]
    },
    {
     "name": "stderr",
     "output_type": "stream",
     "text": [
      "Evaluating: 100%|██████████| 390/390 [00:11<00:00, 35.21it/s]\n"
     ]
    },
    {
     "name": "stdout",
     "output_type": "stream",
     "text": [
      "Epoch [8/20], Validation Loss: 0.1680, Accuracy: 94.23%\n"
     ]
    },
    {
     "name": "stderr",
     "output_type": "stream",
     "text": [
      "Training: 100%|██████████| 1560/1560 [01:59<00:00, 13.06it/s]\n"
     ]
    },
    {
     "name": "stdout",
     "output_type": "stream",
     "text": [
      "Epoch [9/20], Training Loss: 0.1625\n"
     ]
    },
    {
     "name": "stderr",
     "output_type": "stream",
     "text": [
      "Evaluating: 100%|██████████| 390/390 [00:11<00:00, 34.84it/s]\n"
     ]
    },
    {
     "name": "stdout",
     "output_type": "stream",
     "text": [
      "Epoch [9/20], Validation Loss: 0.1568, Accuracy: 94.62%\n",
      "Better model Accuracy saved\n"
     ]
    },
    {
     "name": "stderr",
     "output_type": "stream",
     "text": [
      "Training: 100%|██████████| 1560/1560 [01:58<00:00, 13.13it/s]\n"
     ]
    },
    {
     "name": "stdout",
     "output_type": "stream",
     "text": [
      "Epoch [10/20], Training Loss: 0.1564\n"
     ]
    },
    {
     "name": "stderr",
     "output_type": "stream",
     "text": [
      "Evaluating: 100%|██████████| 390/390 [00:11<00:00, 34.44it/s]\n"
     ]
    },
    {
     "name": "stdout",
     "output_type": "stream",
     "text": [
      "Epoch [10/20], Validation Loss: 0.1590, Accuracy: 94.68%\n",
      "Better model Accuracy saved\n"
     ]
    },
    {
     "name": "stderr",
     "output_type": "stream",
     "text": [
      "Training: 100%|██████████| 1560/1560 [01:59<00:00, 13.10it/s]\n"
     ]
    },
    {
     "name": "stdout",
     "output_type": "stream",
     "text": [
      "Epoch [11/20], Training Loss: 0.1527\n"
     ]
    },
    {
     "name": "stderr",
     "output_type": "stream",
     "text": [
      "Evaluating: 100%|██████████| 390/390 [00:11<00:00, 34.41it/s]\n"
     ]
    },
    {
     "name": "stdout",
     "output_type": "stream",
     "text": [
      "Epoch [11/20], Validation Loss: 0.1562, Accuracy: 94.61%\n"
     ]
    },
    {
     "name": "stderr",
     "output_type": "stream",
     "text": [
      "Training: 100%|██████████| 1560/1560 [01:56<00:00, 13.35it/s]\n"
     ]
    },
    {
     "name": "stdout",
     "output_type": "stream",
     "text": [
      "Epoch [12/20], Training Loss: 0.1474\n"
     ]
    },
    {
     "name": "stderr",
     "output_type": "stream",
     "text": [
      "Evaluating: 100%|██████████| 390/390 [00:11<00:00, 35.13it/s]\n"
     ]
    },
    {
     "name": "stdout",
     "output_type": "stream",
     "text": [
      "Epoch [12/20], Validation Loss: 0.1538, Accuracy: 94.74%\n",
      "Better model Accuracy saved\n"
     ]
    },
    {
     "name": "stderr",
     "output_type": "stream",
     "text": [
      "Training: 100%|██████████| 1560/1560 [01:57<00:00, 13.29it/s]\n"
     ]
    },
    {
     "name": "stdout",
     "output_type": "stream",
     "text": [
      "Epoch [13/20], Training Loss: 0.1440\n"
     ]
    },
    {
     "name": "stderr",
     "output_type": "stream",
     "text": [
      "Evaluating: 100%|██████████| 390/390 [00:10<00:00, 35.99it/s]\n"
     ]
    },
    {
     "name": "stdout",
     "output_type": "stream",
     "text": [
      "Epoch [13/20], Validation Loss: 0.1497, Accuracy: 94.88%\n",
      "Better model Accuracy saved\n"
     ]
    },
    {
     "name": "stderr",
     "output_type": "stream",
     "text": [
      "Training: 100%|██████████| 1560/1560 [01:57<00:00, 13.32it/s]\n"
     ]
    },
    {
     "name": "stdout",
     "output_type": "stream",
     "text": [
      "Epoch [14/20], Training Loss: 0.1406\n"
     ]
    },
    {
     "name": "stderr",
     "output_type": "stream",
     "text": [
      "Evaluating: 100%|██████████| 390/390 [00:10<00:00, 35.61it/s]\n"
     ]
    },
    {
     "name": "stdout",
     "output_type": "stream",
     "text": [
      "Epoch [14/20], Validation Loss: 0.1459, Accuracy: 94.99%\n",
      "Better model Accuracy saved\n"
     ]
    },
    {
     "name": "stderr",
     "output_type": "stream",
     "text": [
      "Training: 100%|██████████| 1560/1560 [01:56<00:00, 13.34it/s]\n"
     ]
    },
    {
     "name": "stdout",
     "output_type": "stream",
     "text": [
      "Epoch [15/20], Training Loss: 0.1368\n"
     ]
    },
    {
     "name": "stderr",
     "output_type": "stream",
     "text": [
      "Evaluating: 100%|██████████| 390/390 [00:10<00:00, 36.17it/s]\n"
     ]
    },
    {
     "name": "stdout",
     "output_type": "stream",
     "text": [
      "Epoch [15/20], Validation Loss: 0.1463, Accuracy: 94.91%\n"
     ]
    },
    {
     "name": "stderr",
     "output_type": "stream",
     "text": [
      "Training: 100%|██████████| 1560/1560 [01:56<00:00, 13.37it/s]\n"
     ]
    },
    {
     "name": "stdout",
     "output_type": "stream",
     "text": [
      "Epoch [16/20], Training Loss: 0.1351\n"
     ]
    },
    {
     "name": "stderr",
     "output_type": "stream",
     "text": [
      "Evaluating: 100%|██████████| 390/390 [00:10<00:00, 36.27it/s]\n"
     ]
    },
    {
     "name": "stdout",
     "output_type": "stream",
     "text": [
      "Epoch [16/20], Validation Loss: 0.1510, Accuracy: 94.94%\n"
     ]
    },
    {
     "name": "stderr",
     "output_type": "stream",
     "text": [
      "Training: 100%|██████████| 1560/1560 [01:56<00:00, 13.34it/s]\n"
     ]
    },
    {
     "name": "stdout",
     "output_type": "stream",
     "text": [
      "Epoch [17/20], Training Loss: 0.1318\n"
     ]
    },
    {
     "name": "stderr",
     "output_type": "stream",
     "text": [
      "Evaluating: 100%|██████████| 390/390 [00:10<00:00, 35.69it/s]\n"
     ]
    },
    {
     "name": "stdout",
     "output_type": "stream",
     "text": [
      "Epoch [17/20], Validation Loss: 0.1472, Accuracy: 95.23%\n",
      "Better model Accuracy saved\n"
     ]
    },
    {
     "name": "stderr",
     "output_type": "stream",
     "text": [
      "Training: 100%|██████████| 1560/1560 [01:56<00:00, 13.35it/s]\n"
     ]
    },
    {
     "name": "stdout",
     "output_type": "stream",
     "text": [
      "Epoch [18/20], Training Loss: 0.1297\n"
     ]
    },
    {
     "name": "stderr",
     "output_type": "stream",
     "text": [
      "Evaluating: 100%|██████████| 390/390 [00:10<00:00, 35.55it/s]\n"
     ]
    },
    {
     "name": "stdout",
     "output_type": "stream",
     "text": [
      "Epoch [18/20], Validation Loss: 0.1444, Accuracy: 95.08%\n"
     ]
    },
    {
     "name": "stderr",
     "output_type": "stream",
     "text": [
      "Training: 100%|██████████| 1560/1560 [01:56<00:00, 13.36it/s]\n"
     ]
    },
    {
     "name": "stdout",
     "output_type": "stream",
     "text": [
      "Epoch [19/20], Training Loss: 0.1264\n"
     ]
    },
    {
     "name": "stderr",
     "output_type": "stream",
     "text": [
      "Evaluating: 100%|██████████| 390/390 [00:11<00:00, 35.17it/s]\n"
     ]
    },
    {
     "name": "stdout",
     "output_type": "stream",
     "text": [
      "Epoch [19/20], Validation Loss: 0.1452, Accuracy: 94.98%\n"
     ]
    },
    {
     "name": "stderr",
     "output_type": "stream",
     "text": [
      "Training: 100%|██████████| 1560/1560 [01:56<00:00, 13.37it/s]\n"
     ]
    },
    {
     "name": "stdout",
     "output_type": "stream",
     "text": [
      "Epoch [20/20], Training Loss: 0.1241\n"
     ]
    },
    {
     "name": "stderr",
     "output_type": "stream",
     "text": [
      "Evaluating: 100%|██████████| 390/390 [00:11<00:00, 35.09it/s]"
     ]
    },
    {
     "name": "stdout",
     "output_type": "stream",
     "text": [
      "Epoch [20/20], Validation Loss: 0.1554, Accuracy: 94.78%\n",
      "Training and validation complete!\n"
     ]
    },
    {
     "name": "stderr",
     "output_type": "stream",
     "text": [
      "\n"
     ]
    }
   ],
   "source": [
    "train()"
   ]
  },
  {
   "cell_type": "code",
   "execution_count": null,
   "id": "299692df",
   "metadata": {
    "papermill": {
     "duration": 0.858073,
     "end_time": "2025-01-14T01:23:08.244598",
     "exception": false,
     "start_time": "2025-01-14T01:23:07.386525",
     "status": "completed"
    },
    "tags": []
   },
   "outputs": [],
   "source": []
  }
 ],
 "metadata": {
  "kaggle": {
   "accelerator": "gpu",
   "dataSources": [],
   "dockerImageVersionId": 30787,
   "isGpuEnabled": true,
   "isInternetEnabled": true,
   "language": "python",
   "sourceType": "notebook"
  },
  "kernelspec": {
   "display_name": "Python 3",
   "language": "python",
   "name": "python3"
  },
  "language_info": {
   "codemirror_mode": {
    "name": "ipython",
    "version": 3
   },
   "file_extension": ".py",
   "mimetype": "text/x-python",
   "name": "python",
   "nbconvert_exporter": "python",
   "pygments_lexer": "ipython3",
   "version": "3.10.14"
  },
  "papermill": {
   "default_parameters": {},
   "duration": 2629.698552,
   "end_time": "2025-01-14T01:23:10.394081",
   "environment_variables": {},
   "exception": null,
   "input_path": "__notebook__.ipynb",
   "output_path": "__notebook__.ipynb",
   "parameters": {},
   "start_time": "2025-01-14T00:39:20.695529",
   "version": "2.6.0"
  },
  "vscode": {
   "interpreter": {
    "hash": "4f4688dced6fdddc065d362f23a021b47e756abf63e49614ce10523308d98a92"
   }
  }
 },
 "nbformat": 4,
 "nbformat_minor": 5
}
